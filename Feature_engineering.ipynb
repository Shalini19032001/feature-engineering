{
  "nbformat": 4,
  "nbformat_minor": 0,
  "metadata": {
    "colab": {
      "provenance": []
    },
    "kernelspec": {
      "name": "python3",
      "display_name": "Python 3"
    },
    "language_info": {
      "name": "python"
    }
  },
  "cells": [
    {
      "cell_type": "markdown",
      "source": [
        "# Assignment questions"
      ],
      "metadata": {
        "id": "-8V20RrFm1Ul"
      }
    },
    {
      "cell_type": "markdown",
      "source": [
        "1.What is a parameter?\n",
        "- A parameter is a configuration variable inside the model that is estimated from the data. In machine learning, parameters are learned during training (e.g., weights in linear regression)."
      ],
      "metadata": {
        "id": "WrnAZasBm6hV"
      }
    },
    {
      "cell_type": "markdown",
      "source": [
        "2. What is correlation?\n",
        "What does negative correlation mean?\n",
        "- Correlation measures the strength and direction of the linear relationship between two variables.\n",
        "- A negative correlation means that as one variable increases, the other decreases. For example, hours of TV watched per day and exam scores may be negatively correlated."
      ],
      "metadata": {
        "id": "4qrK3U90m6vJ"
      }
    },
    {
      "cell_type": "markdown",
      "source": [
        "3. Define Machine Learning. What are the main components in Machine Learning?\n",
        "- Machine Learning is a subset of AI that allows systems to learn and improve from experience without being explicitly programmed.\n",
        "Main components:\n",
        "\n",
        "- Data\n",
        "\n",
        "- Algorithm (model)\n",
        "\n",
        "- Loss function\n",
        "\n",
        "- Optimizer\n",
        "\n",
        "- Evaluation metrics"
      ],
      "metadata": {
        "id": "Q7LSAvLtm62N"
      }
    },
    {
      "cell_type": "markdown",
      "source": [
        "4. How does loss value help in determining whether the model is good or not?\n",
        "- The loss value quantifies how far the predicted values are from the actual values. Lower loss means better performance."
      ],
      "metadata": {
        "id": "SCBlAnWIm687"
      }
    },
    {
      "cell_type": "markdown",
      "source": [
        "5. What are continuous and categorical variables?\n",
        "- Continuous variables can take any numerical value (e.g., height, weight).\n",
        "\n",
        "- Categorical variables represent categories or groups (e.g., gender, color)."
      ],
      "metadata": {
        "id": "ZGWls3mFm7D-"
      }
    },
    {
      "cell_type": "markdown",
      "source": [
        "6. How do we handle categorical variables in Machine Learning? What are the common techniques?\n",
        "- Categorical variables are converted into numbers so that models can understand them.\n",
        "- Label Encoding\n",
        "\n",
        "- One-Hot Encoding\n",
        "\n",
        "- Ordinal Encoding"
      ],
      "metadata": {
        "id": "2jNsN-bym7LB"
      }
    },
    {
      "cell_type": "markdown",
      "source": [
        "7. What do you mean by training and testing a dataset?\n",
        "- Training data is used to fit the model, and testing data is used to evaluate its performance on unseen data."
      ],
      "metadata": {
        "id": "fqb4j0Eam7R5"
      }
    },
    {
      "cell_type": "markdown",
      "source": [
        "8. What is sklearn.preprocessing?\n",
        "- It's a module in scikit-learn used for scaling, transforming, and encoding features before feeding into a model."
      ],
      "metadata": {
        "id": "W_nAU-5xm7wz"
      }
    },
    {
      "cell_type": "markdown",
      "source": [
        "9. What is a Test set?\n",
        "- A subset of the data used to evaluate the trained model’s performance."
      ],
      "metadata": {
        "id": "KtWuqRyCm8Dr"
      }
    },
    {
      "cell_type": "markdown",
      "source": [
        "10. How do we split data for model fitting (training and testing) in Python?\n",
        "How do you approach a Machine Learning problem?\n",
        "- Using train_test_split from sklearn.model_selection\n",
        "\n",
        "# Steps:\n",
        "\n",
        "- Understand the problem\n",
        "\n",
        "- Collect data\n",
        "\n",
        "- Clean and preprocess data\n",
        "\n",
        "- Perform EDA\n",
        "\n",
        "- Split data\n",
        "\n",
        "- Choose and train a model\n",
        "\n",
        "- Evaluate the model\n",
        "\n",
        "- Tune and optimize"
      ],
      "metadata": {
        "id": "7yHRPN3zuSJ4"
      }
    },
    {
      "cell_type": "markdown",
      "source": [
        "11. Why do we have to perform EDA before fitting a model to the data?\n",
        "- EDA (Exploratory Data Analysis) helps understand data patterns, detect outliers, handle missing values, and guide feature selection."
      ],
      "metadata": {
        "id": "QoIMcfQiuSVE"
      }
    },
    {
      "cell_type": "markdown",
      "source": [
        "12.What is correlation?\n",
        "- Correlation measures the relationship or association between two variables, indicating how one may predict the other."
      ],
      "metadata": {
        "id": "-DgzKEdtuScc"
      }
    },
    {
      "cell_type": "markdown",
      "source": [
        "13. What does negative correlation mean?\n",
        "- A negative correlation means that as one variable increases, the other decreases. For example, as speed increases, travel time decreases."
      ],
      "metadata": {
        "id": "_eJJKmHMuSi2"
      }
    },
    {
      "cell_type": "markdown",
      "source": [
        "14. How can you find correlation between variables in Python?\n",
        "- Using .corr() in pandas or seaborn.heatmap(df.corr())."
      ],
      "metadata": {
        "id": "3U-vXXkluSqA"
      }
    },
    {
      "cell_type": "markdown",
      "source": [
        "15. What is causation? Explain difference between correlation and causation with an example.\n",
        "- Causation indicates that one variable causes another.\n",
        "Example: Ice cream sales and drowning may be correlated due to summer, but ice cream doesn’t cause drowning — this is correlation, not causation"
      ],
      "metadata": {
        "id": "3013TnTfvR6s"
      }
    },
    {
      "cell_type": "markdown",
      "source": [
        "16. What is an Optimizer? What are different types of optimizers? Explain each with an example.\n",
        "- Optimizers minimize the loss function. Common types:\n",
        "\n",
        "- SGD (Stochastic Gradient Descent): Updates model weights using gradients.\n",
        "- example:\n",
        "      from tensorflow.keras.optimizers import SGD  \n",
        "      optimizer = SGD(learning_rate=0.01)\n",
        "- Adam: Combines momentum and adaptive learning rates. Works well for most problems.\n",
        "- Example:\n",
        "       from tensorflow.keras.optimizers import Adam  \n",
        "       optimizer = Adam(learning_rate=0.001)\n",
        "- RMSprop: Good for recurrent neural networks. Adjusts learning rate using moving average of gradients.\n",
        "- Example:\n",
        "        from tensorflow.keras.optimizers import RMSprop  \n",
        "        optimizer = RMSprop(learning_rate=0.001)"
      ],
      "metadata": {
        "id": "9rDfb3esvSEL"
      }
    },
    {
      "cell_type": "markdown",
      "source": [
        "17. What is sklearn.linear_model ?\n",
        "- A module in scikit-learn for linear models like Linear Regression, Logistic Regression."
      ],
      "metadata": {
        "id": "Nq4wyOVQvSKR"
      }
    },
    {
      "cell_type": "markdown",
      "source": [
        "18. What does model.fit() do? What arguments must be given?\n",
        "- It trains the model. Arguments: features (X), target (y)."
      ],
      "metadata": {
        "id": "YyshuOpNw-Xq"
      }
    },
    {
      "cell_type": "markdown",
      "source": [
        "19. What does model.predict() do? What arguments must be given?\n",
        "- It makes predictions. Argument: new input features (X)."
      ],
      "metadata": {
        "id": "Mq0FApZ_w-vM"
      }
    },
    {
      "cell_type": "markdown",
      "source": [
        "20. What are continuous and categorical variables?\n",
        "- Continuous variables can take any numerical value (e.g., height, weight).\n",
        "\n",
        "- Categorical variables represent categories or groups (e.g., gender, color)."
      ],
      "metadata": {
        "id": "2xeXAkFCw-5s"
      }
    },
    {
      "cell_type": "markdown",
      "source": [
        "21. What is feature scaling? How does it help in Machine Learning?\n",
        "- Feature scaling standardizes the range of independent variables. It improves model convergence and performance."
      ],
      "metadata": {
        "id": "DyWwgk_6w_Cn"
      }
    },
    {
      "cell_type": "markdown",
      "source": [
        "22. How do we perform scaling in Python?\n",
        "- Using StandardScaler, MinMaxScaler from sklearn.preprocessing."
      ],
      "metadata": {
        "id": "GbmgNLSJw_Jg"
      }
    },
    {
      "cell_type": "markdown",
      "source": [
        "23. What is sklearn.preprocessing?\n",
        "- It's a module in scikit-learn used for scaling, transforming, and encoding features before feeding into a model."
      ],
      "metadata": {
        "id": "osYJBUiCw_SU"
      }
    },
    {
      "cell_type": "markdown",
      "source": [
        "24. How do we split data for model fitting (training and testing) in Python?\n",
        "- Use train_test_split(X, y, test_size=0.2, random_state=42)."
      ],
      "metadata": {
        "id": "tCWhWWmwvSOT"
      }
    },
    {
      "cell_type": "markdown",
      "source": [
        "25. Explain data encoding?\n",
        "- Data encoding converts categorical data into numerical format so that it can be used in machine learning models."
      ],
      "metadata": {
        "id": "uUe1iyJIvSUP"
      }
    }
  ]
}